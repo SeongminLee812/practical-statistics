{
 "cells": [
  {
   "cell_type": "code",
   "execution_count": 1,
   "id": "3b59464f-8043-41a7-83bc-6649ce80b669",
   "metadata": {},
   "outputs": [],
   "source": [
    "from pathlib import Path\n",
    "\n",
    "import pandas as pd\n",
    "import numpy as np\n",
    "from sklearn.metrics import r2_score, mean_squared_error\n",
    "from sklearn.linear_model import LinearRegression\n",
    "\n",
    "import statsmodels.api as sm\n",
    "import statsmodels.formula.api as smf\n",
    "from statsmodels.stats.outliers_influence import OLSInfluence"
   ]
  },
  {
   "cell_type": "code",
   "execution_count": 2,
   "id": "c65ac871-a58e-4998-9168-724536c156dd",
   "metadata": {},
   "outputs": [],
   "source": [
    "from pygam import LinearGAM, s, l\n",
    "from pygam.datasets import wage"
   ]
  },
  {
   "cell_type": "code",
   "execution_count": null,
   "id": "719d76d6-a092-4f4e-b538-b81d9b3d187c",
   "metadata": {},
   "outputs": [],
   "source": []
  },
  {
   "cell_type": "code",
   "execution_count": 3,
   "id": "a953ffe6-9eb9-43bc-beeb-540298e002a5",
   "metadata": {},
   "outputs": [],
   "source": [
    "import seaborn as sns\n",
    "import matplotlib.pyplot as plt"
   ]
  },
  {
   "cell_type": "code",
   "execution_count": 4,
   "id": "01d5d07f-805d-480c-a06e-38656a03e2ad",
   "metadata": {},
   "outputs": [
    {
     "ename": "ImportError",
     "evalue": "cannot import name 'TypedDict' from 'typing' (/Users/iseongmin/opt/anaconda3/envs/ADP/lib/python3.7/typing.py)",
     "output_type": "error",
     "traceback": [
      "\u001b[0;31m---------------------------------------------------------------------------\u001b[0m",
      "\u001b[0;31mImportError\u001b[0m                               Traceback (most recent call last)",
      "\u001b[0;32m/var/folders/wv/bnpq1s_d23qg2x2m69xg48gc0000gn/T/ipykernel_6315/3649770330.py\u001b[0m in \u001b[0;36m<module>\u001b[0;34m\u001b[0m\n\u001b[0;32m----> 1\u001b[0;31m \u001b[0;32mfrom\u001b[0m \u001b[0mdmba\u001b[0m \u001b[0;32mimport\u001b[0m \u001b[0mstepwise_selection\u001b[0m\u001b[0;34m\u001b[0m\u001b[0;34m\u001b[0m\u001b[0m\n\u001b[0m\u001b[1;32m      2\u001b[0m \u001b[0;32mfrom\u001b[0m \u001b[0mdmba\u001b[0m \u001b[0;32mimport\u001b[0m \u001b[0mAIC_score\u001b[0m\u001b[0;34m\u001b[0m\u001b[0;34m\u001b[0m\u001b[0m\n",
      "\u001b[0;32m~/opt/anaconda3/envs/ADP/lib/python3.7/site-packages/dmba/__init__.py\u001b[0m in \u001b[0;36m<module>\u001b[0;34m\u001b[0m\n\u001b[1;32m     11\u001b[0m \u001b[0;34m\u001b[0m\u001b[0m\n\u001b[1;32m     12\u001b[0m \u001b[0;32mfrom\u001b[0m \u001b[0;34m.\u001b[0m\u001b[0mdata\u001b[0m \u001b[0;32mimport\u001b[0m \u001b[0mget_data_file\u001b[0m\u001b[0;34m,\u001b[0m \u001b[0mload_data\u001b[0m\u001b[0;34m\u001b[0m\u001b[0;34m\u001b[0m\u001b[0m\n\u001b[0;32m---> 13\u001b[0;31m \u001b[0;32mfrom\u001b[0m \u001b[0;34m.\u001b[0m\u001b[0mfeatureSelection\u001b[0m \u001b[0;32mimport\u001b[0m \u001b[0mbackward_elimination\u001b[0m\u001b[0;34m,\u001b[0m \u001b[0mexhaustive_search\u001b[0m\u001b[0;34m,\u001b[0m \u001b[0mforward_selection\u001b[0m\u001b[0;34m,\u001b[0m \u001b[0mstepwise_selection\u001b[0m\u001b[0;34m\u001b[0m\u001b[0;34m\u001b[0m\u001b[0m\n\u001b[0m\u001b[1;32m     14\u001b[0m \u001b[0;32mfrom\u001b[0m \u001b[0;34m.\u001b[0m\u001b[0mgraphs\u001b[0m \u001b[0;32mimport\u001b[0m \u001b[0mgainsChart\u001b[0m\u001b[0;34m,\u001b[0m \u001b[0mliftChart\u001b[0m\u001b[0;34m,\u001b[0m \u001b[0mplotDecisionTree\u001b[0m\u001b[0;34m,\u001b[0m \u001b[0mtextDecisionTree\u001b[0m\u001b[0;34m\u001b[0m\u001b[0;34m\u001b[0m\u001b[0m\n\u001b[1;32m     15\u001b[0m \u001b[0;32mfrom\u001b[0m \u001b[0;34m.\u001b[0m\u001b[0mmetric\u001b[0m \u001b[0;32mimport\u001b[0m \u001b[0mAIC_score\u001b[0m\u001b[0;34m,\u001b[0m \u001b[0mBIC_score\u001b[0m\u001b[0;34m,\u001b[0m \u001b[0madjusted_r2_score\u001b[0m\u001b[0;34m,\u001b[0m \u001b[0mclassificationSummary\u001b[0m\u001b[0;34m,\u001b[0m \u001b[0mregressionSummary\u001b[0m\u001b[0;34m\u001b[0m\u001b[0;34m\u001b[0m\u001b[0m\n",
      "\u001b[0;32m~/opt/anaconda3/envs/ADP/lib/python3.7/site-packages/dmba/featureSelection.py\u001b[0m in \u001b[0;36m<module>\u001b[0;34m\u001b[0m\n\u001b[1;32m      6\u001b[0m '''\n\u001b[1;32m      7\u001b[0m \u001b[0;32mimport\u001b[0m \u001b[0mitertools\u001b[0m\u001b[0;34m\u001b[0m\u001b[0;34m\u001b[0m\u001b[0m\n\u001b[0;32m----> 8\u001b[0;31m \u001b[0;32mfrom\u001b[0m \u001b[0mtyping\u001b[0m \u001b[0;32mimport\u001b[0m \u001b[0mAny\u001b[0m\u001b[0;34m,\u001b[0m \u001b[0mCallable\u001b[0m\u001b[0;34m,\u001b[0m \u001b[0mIterable\u001b[0m\u001b[0;34m,\u001b[0m \u001b[0mList\u001b[0m\u001b[0;34m,\u001b[0m \u001b[0mNamedTuple\u001b[0m\u001b[0;34m,\u001b[0m \u001b[0mOptional\u001b[0m\u001b[0;34m,\u001b[0m \u001b[0mTuple\u001b[0m\u001b[0;34m,\u001b[0m \u001b[0mTypedDict\u001b[0m\u001b[0;34m,\u001b[0m \u001b[0mTypeVar\u001b[0m\u001b[0;34m\u001b[0m\u001b[0;34m\u001b[0m\u001b[0m\n\u001b[0m\u001b[1;32m      9\u001b[0m \u001b[0;34m\u001b[0m\u001b[0m\n\u001b[1;32m     10\u001b[0m \u001b[0mModel\u001b[0m \u001b[0;34m=\u001b[0m \u001b[0mTypeVar\u001b[0m\u001b[0;34m(\u001b[0m\u001b[0;34m'Model'\u001b[0m\u001b[0;34m)\u001b[0m\u001b[0;34m\u001b[0m\u001b[0;34m\u001b[0m\u001b[0m\n",
      "\u001b[0;31mImportError\u001b[0m: cannot import name 'TypedDict' from 'typing' (/Users/iseongmin/opt/anaconda3/envs/ADP/lib/python3.7/typing.py)"
     ]
    }
   ],
   "source": [
    "from dmba import stepwise_selection\n",
    "from dmba import AIC_score"
   ]
  },
  {
   "cell_type": "code",
   "execution_count": null,
   "id": "7c9f8021-4ebf-40ed-9528-9941cc62bb5f",
   "metadata": {},
   "outputs": [],
   "source": [
    "try:\n",
    "    import common\n",
    "    DATA = common.dataDirectory()\n",
    "except ImportError:\n",
    "    DATA = Path().resolve() / '../data'"
   ]
  },
  {
   "cell_type": "code",
   "execution_count": null,
   "id": "456bbba7-8a4d-4907-8bf8-46908316e31c",
   "metadata": {},
   "outputs": [],
   "source": [
    "LUNG_CSV = DATA / 'LungDisease.csv'\n",
    "HOUSE_CSV = DATA / 'house_sales.csv'"
   ]
  },
  {
   "cell_type": "code",
   "execution_count": null,
   "id": "a0c30e4c-54d7-42da-ad83-26596f7bee29",
   "metadata": {},
   "outputs": [],
   "source": [
    "lung = pd.read_csv(LUNG_CSV)\n",
    "\n",
    "lung.plot.scatter(x='Exposure', y='PEFR')\n",
    "\n",
    "plt.tight_layout()\n",
    "plt.show()"
   ]
  },
  {
   "cell_type": "code",
   "execution_count": null,
   "id": "121a09aa-8126-4e49-bf07-b2bcf94dec8f",
   "metadata": {},
   "outputs": [],
   "source": [
    "subset = ['AdjSalePrice', 'SqFtTotLiving', 'SqFtLot', 'Bathrooms', \n",
    "          'Bedrooms', 'BldgGrade']\n",
    "\n",
    "house = pd.read_csv(HOUSE_CSV, sep='\\t')\n",
    "print(house[subset].head())"
   ]
  },
  {
   "cell_type": "code",
   "execution_count": null,
   "id": "efe75327-d106-439d-b8e3-705525591f47",
   "metadata": {},
   "outputs": [],
   "source": [
    "predictor = subset[1:]\n",
    "outcome = 'AdjSalePrice'\n",
    "\n",
    "house_lm = LinearRegression()\n",
    "house_lm.fit(house[predictor], house[outcome])"
   ]
  },
  {
   "cell_type": "code",
   "execution_count": null,
   "id": "c4cfd9d8-356a-42b8-9eed-afcb228ca967",
   "metadata": {},
   "outputs": [],
   "source": [
    "for name, coef in zip(predictor, house_lm.coef_):\n",
    "    print(f'{name} \\t {coef}')"
   ]
  },
  {
   "cell_type": "code",
   "execution_count": null,
   "id": "d160c031-1b44-4fb0-88b1-68a7e6cfacd8",
   "metadata": {},
   "outputs": [],
   "source": [
    "model = sm.OLS(house[outcome], house[predictor].assign(const=1))\n",
    "results = model.fit()\n",
    "results.summary()"
   ]
  },
  {
   "cell_type": "code",
   "execution_count": 5,
   "id": "eb86b661-5c57-4059-a9ee-65e1112ac355",
   "metadata": {},
   "outputs": [
    {
     "ename": "ImportError",
     "evalue": "cannot import name 'TypedDict' from 'typing' (/Users/iseongmin/opt/anaconda3/envs/ADP/lib/python3.7/typing.py)",
     "output_type": "error",
     "traceback": [
      "\u001b[0;31m---------------------------------------------------------------------------\u001b[0m",
      "\u001b[0;31mImportError\u001b[0m                               Traceback (most recent call last)",
      "\u001b[0;32m/var/folders/wv/bnpq1s_d23qg2x2m69xg48gc0000gn/T/ipykernel_6315/266542330.py\u001b[0m in \u001b[0;36m<module>\u001b[0;34m\u001b[0m\n\u001b[0;32m----> 1\u001b[0;31m \u001b[0;32mfrom\u001b[0m \u001b[0mdmba\u001b[0m \u001b[0;32mimport\u001b[0m \u001b[0mstepwise_selection\u001b[0m\u001b[0;34m\u001b[0m\u001b[0;34m\u001b[0m\u001b[0m\n\u001b[0m",
      "\u001b[0;32m~/opt/anaconda3/envs/ADP/lib/python3.7/site-packages/dmba/__init__.py\u001b[0m in \u001b[0;36m<module>\u001b[0;34m\u001b[0m\n\u001b[1;32m     11\u001b[0m \u001b[0;34m\u001b[0m\u001b[0m\n\u001b[1;32m     12\u001b[0m \u001b[0;32mfrom\u001b[0m \u001b[0;34m.\u001b[0m\u001b[0mdata\u001b[0m \u001b[0;32mimport\u001b[0m \u001b[0mget_data_file\u001b[0m\u001b[0;34m,\u001b[0m \u001b[0mload_data\u001b[0m\u001b[0;34m\u001b[0m\u001b[0;34m\u001b[0m\u001b[0m\n\u001b[0;32m---> 13\u001b[0;31m \u001b[0;32mfrom\u001b[0m \u001b[0;34m.\u001b[0m\u001b[0mfeatureSelection\u001b[0m \u001b[0;32mimport\u001b[0m \u001b[0mbackward_elimination\u001b[0m\u001b[0;34m,\u001b[0m \u001b[0mexhaustive_search\u001b[0m\u001b[0;34m,\u001b[0m \u001b[0mforward_selection\u001b[0m\u001b[0;34m,\u001b[0m \u001b[0mstepwise_selection\u001b[0m\u001b[0;34m\u001b[0m\u001b[0;34m\u001b[0m\u001b[0m\n\u001b[0m\u001b[1;32m     14\u001b[0m \u001b[0;32mfrom\u001b[0m \u001b[0;34m.\u001b[0m\u001b[0mgraphs\u001b[0m \u001b[0;32mimport\u001b[0m \u001b[0mgainsChart\u001b[0m\u001b[0;34m,\u001b[0m \u001b[0mliftChart\u001b[0m\u001b[0;34m,\u001b[0m \u001b[0mplotDecisionTree\u001b[0m\u001b[0;34m,\u001b[0m \u001b[0mtextDecisionTree\u001b[0m\u001b[0;34m\u001b[0m\u001b[0;34m\u001b[0m\u001b[0m\n\u001b[1;32m     15\u001b[0m \u001b[0;32mfrom\u001b[0m \u001b[0;34m.\u001b[0m\u001b[0mmetric\u001b[0m \u001b[0;32mimport\u001b[0m \u001b[0mAIC_score\u001b[0m\u001b[0;34m,\u001b[0m \u001b[0mBIC_score\u001b[0m\u001b[0;34m,\u001b[0m \u001b[0madjusted_r2_score\u001b[0m\u001b[0;34m,\u001b[0m \u001b[0mclassificationSummary\u001b[0m\u001b[0;34m,\u001b[0m \u001b[0mregressionSummary\u001b[0m\u001b[0;34m\u001b[0m\u001b[0;34m\u001b[0m\u001b[0m\n",
      "\u001b[0;32m~/opt/anaconda3/envs/ADP/lib/python3.7/site-packages/dmba/featureSelection.py\u001b[0m in \u001b[0;36m<module>\u001b[0;34m\u001b[0m\n\u001b[1;32m      6\u001b[0m '''\n\u001b[1;32m      7\u001b[0m \u001b[0;32mimport\u001b[0m \u001b[0mitertools\u001b[0m\u001b[0;34m\u001b[0m\u001b[0;34m\u001b[0m\u001b[0m\n\u001b[0;32m----> 8\u001b[0;31m \u001b[0;32mfrom\u001b[0m \u001b[0mtyping\u001b[0m \u001b[0;32mimport\u001b[0m \u001b[0mAny\u001b[0m\u001b[0;34m,\u001b[0m \u001b[0mCallable\u001b[0m\u001b[0;34m,\u001b[0m \u001b[0mIterable\u001b[0m\u001b[0;34m,\u001b[0m \u001b[0mList\u001b[0m\u001b[0;34m,\u001b[0m \u001b[0mNamedTuple\u001b[0m\u001b[0;34m,\u001b[0m \u001b[0mOptional\u001b[0m\u001b[0;34m,\u001b[0m \u001b[0mTuple\u001b[0m\u001b[0;34m,\u001b[0m \u001b[0mTypedDict\u001b[0m\u001b[0;34m,\u001b[0m \u001b[0mTypeVar\u001b[0m\u001b[0;34m\u001b[0m\u001b[0;34m\u001b[0m\u001b[0m\n\u001b[0m\u001b[1;32m      9\u001b[0m \u001b[0;34m\u001b[0m\u001b[0m\n\u001b[1;32m     10\u001b[0m \u001b[0mModel\u001b[0m \u001b[0;34m=\u001b[0m \u001b[0mTypeVar\u001b[0m\u001b[0;34m(\u001b[0m\u001b[0;34m'Model'\u001b[0m\u001b[0;34m)\u001b[0m\u001b[0;34m\u001b[0m\u001b[0;34m\u001b[0m\u001b[0m\n",
      "\u001b[0;31mImportError\u001b[0m: cannot import name 'TypedDict' from 'typing' (/Users/iseongmin/opt/anaconda3/envs/ADP/lib/python3.7/typing.py)"
     ]
    }
   ],
   "source": [
    "from dmba import stepwise_selection"
   ]
  },
  {
   "cell_type": "code",
   "execution_count": null,
   "id": "2b0e0ba4-02ff-44bc-b099-2e5f2ea2e3cc",
   "metadata": {},
   "outputs": [],
   "source": []
  }
 ],
 "metadata": {
  "kernelspec": {
   "display_name": "ADP",
   "language": "python",
   "name": "adp"
  },
  "language_info": {
   "codemirror_mode": {
    "name": "ipython",
    "version": 3
   },
   "file_extension": ".py",
   "mimetype": "text/x-python",
   "name": "python",
   "nbconvert_exporter": "python",
   "pygments_lexer": "ipython3",
   "version": "3.7.16"
  }
 },
 "nbformat": 4,
 "nbformat_minor": 5
}
